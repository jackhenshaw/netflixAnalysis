{
 "cells": [
  {
   "cell_type": "markdown",
   "id": "0d754dda",
   "metadata": {},
   "source": [
    "# Analysis my Netflix data"
   ]
  },
  {
   "cell_type": "markdown",
   "id": "0262db58",
   "metadata": {},
   "source": [
    "## Initial investigation of dataframe"
   ]
  },
  {
   "cell_type": "code",
   "execution_count": 1,
   "id": "340852d0",
   "metadata": {},
   "outputs": [],
   "source": [
    "import pandas as pd"
   ]
  },
  {
   "cell_type": "code",
   "execution_count": 2,
   "id": "6b146046",
   "metadata": {},
   "outputs": [],
   "source": [
    "df = pd.read_csv('data/CONTENT_INTERACTION/ViewingActivity.csv')"
   ]
  },
  {
   "cell_type": "code",
   "execution_count": 3,
   "id": "be4700a0",
   "metadata": {},
   "outputs": [
    {
     "data": {
      "text/plain": [
       "Index(['Profile Name', 'Start Time', 'Duration', 'Attributes', 'Title',\n",
       "       'Supplemental Video Type', 'Device Type', 'Bookmark', 'Latest Bookmark',\n",
       "       'Country'],\n",
       "      dtype='object')"
      ]
     },
     "execution_count": 3,
     "metadata": {},
     "output_type": "execute_result"
    }
   ],
   "source": [
    "df.columns"
   ]
  },
  {
   "cell_type": "code",
   "execution_count": 4,
   "id": "1d40b845",
   "metadata": {},
   "outputs": [
    {
     "data": {
      "text/plain": [
       "Profile Name               object\n",
       "Start Time                 object\n",
       "Duration                   object\n",
       "Attributes                 object\n",
       "Title                      object\n",
       "Supplemental Video Type    object\n",
       "Device Type                object\n",
       "Bookmark                   object\n",
       "Latest Bookmark            object\n",
       "Country                    object\n",
       "dtype: object"
      ]
     },
     "execution_count": 4,
     "metadata": {},
     "output_type": "execute_result"
    }
   ],
   "source": [
    "df.dtypes"
   ]
  },
  {
   "cell_type": "markdown",
   "id": "4e0d927b",
   "metadata": {},
   "source": [
    "## Prepare dataframe for analysis"
   ]
  },
  {
   "cell_type": "markdown",
   "id": "b7e6e3f2",
   "metadata": {},
   "source": [
    "Remove not needed columns"
   ]
  },
  {
   "cell_type": "code",
   "execution_count": 5,
   "id": "1c021b38",
   "metadata": {},
   "outputs": [],
   "source": [
    "df = df.drop(['Attributes', 'Supplemental Video Type', 'Device Type', 'Bookmark', 'Latest Bookmark', 'Country'], axis=1)"
   ]
  },
  {
   "cell_type": "markdown",
   "id": "e8754d6f",
   "metadata": {},
   "source": [
    "Correct data types for analysis"
   ]
  },
  {
   "cell_type": "code",
   "execution_count": 6,
   "id": "069c1838",
   "metadata": {},
   "outputs": [],
   "source": [
    "df['Start Time'] = pd.to_datetime(df['Start Time'], utc=True)\n",
    "df['Duration']   = pd.to_timedelta(df['Duration'])"
   ]
  },
  {
   "cell_type": "code",
   "execution_count": 7,
   "id": "c1a86fe3",
   "metadata": {},
   "outputs": [
    {
     "data": {
      "text/plain": [
       "Profile Name                 object\n",
       "Start Time      datetime64[ns, UTC]\n",
       "Duration            timedelta64[ns]\n",
       "Title                        object\n",
       "dtype: object"
      ]
     },
     "execution_count": 7,
     "metadata": {},
     "output_type": "execute_result"
    }
   ],
   "source": [
    "# Check this worked\n",
    "df.dtypes"
   ]
  },
  {
   "cell_type": "markdown",
   "id": "a96f447c",
   "metadata": {},
   "source": [
    "Want to change start time to correct timezone"
   ]
  },
  {
   "cell_type": "code",
   "execution_count": 8,
   "id": "c21578a1",
   "metadata": {},
   "outputs": [],
   "source": [
    "# change start time column to dataFrames index\n",
    "df = df.set_index('Start Time')\n",
    "# Correct timezone\n",
    "df.index = df.index.tz_convert('Europe/London')\n",
    "# reset the index and turn Start Time back into a column\n",
    "df = df.reset_index()"
   ]
  },
  {
   "cell_type": "code",
   "execution_count": 9,
   "id": "fd366f35",
   "metadata": {},
   "outputs": [
    {
     "data": {
      "text/html": [
       "<div>\n",
       "<style scoped>\n",
       "    .dataframe tbody tr th:only-of-type {\n",
       "        vertical-align: middle;\n",
       "    }\n",
       "\n",
       "    .dataframe tbody tr th {\n",
       "        vertical-align: top;\n",
       "    }\n",
       "\n",
       "    .dataframe thead th {\n",
       "        text-align: right;\n",
       "    }\n",
       "</style>\n",
       "<table border=\"1\" class=\"dataframe\">\n",
       "  <thead>\n",
       "    <tr style=\"text-align: right;\">\n",
       "      <th></th>\n",
       "      <th>Start Time</th>\n",
       "      <th>Profile Name</th>\n",
       "      <th>Duration</th>\n",
       "      <th>Title</th>\n",
       "    </tr>\n",
       "  </thead>\n",
       "  <tbody>\n",
       "    <tr>\n",
       "      <th>0</th>\n",
       "      <td>2022-09-23 17:15:22+01:00</td>\n",
       "      <td>Jack</td>\n",
       "      <td>0 days 00:14:01</td>\n",
       "      <td>Fresh Meat: Series 1: Episode 1</td>\n",
       "    </tr>\n",
       "    <tr>\n",
       "      <th>1</th>\n",
       "      <td>2022-09-23 14:16:56+01:00</td>\n",
       "      <td>Jack</td>\n",
       "      <td>0 days 01:45:26</td>\n",
       "      <td>The Next Karate Kid</td>\n",
       "    </tr>\n",
       "    <tr>\n",
       "      <th>2</th>\n",
       "      <td>2022-09-23 07:17:08+01:00</td>\n",
       "      <td>Jack</td>\n",
       "      <td>0 days 00:24:54</td>\n",
       "      <td>Uncoupled: Season 1: Chapter 1 (Episode 1)</td>\n",
       "    </tr>\n",
       "    <tr>\n",
       "      <th>3</th>\n",
       "      <td>2022-09-23 06:57:04+01:00</td>\n",
       "      <td>Jack</td>\n",
       "      <td>0 days 00:19:25</td>\n",
       "      <td>Young Sheldon: Young Sheldon: Season 3: A Secr...</td>\n",
       "    </tr>\n",
       "    <tr>\n",
       "      <th>4</th>\n",
       "      <td>2022-09-23 06:53:42+01:00</td>\n",
       "      <td>Jack</td>\n",
       "      <td>0 days 00:03:16</td>\n",
       "      <td>Young Sheldon: Young Sheldon: Season 3: A Baby...</td>\n",
       "    </tr>\n",
       "  </tbody>\n",
       "</table>\n",
       "</div>"
      ],
      "text/plain": [
       "                 Start Time Profile Name        Duration  \\\n",
       "0 2022-09-23 17:15:22+01:00         Jack 0 days 00:14:01   \n",
       "1 2022-09-23 14:16:56+01:00         Jack 0 days 01:45:26   \n",
       "2 2022-09-23 07:17:08+01:00         Jack 0 days 00:24:54   \n",
       "3 2022-09-23 06:57:04+01:00         Jack 0 days 00:19:25   \n",
       "4 2022-09-23 06:53:42+01:00         Jack 0 days 00:03:16   \n",
       "\n",
       "                                               Title  \n",
       "0                    Fresh Meat: Series 1: Episode 1  \n",
       "1                                The Next Karate Kid  \n",
       "2         Uncoupled: Season 1: Chapter 1 (Episode 1)  \n",
       "3  Young Sheldon: Young Sheldon: Season 3: A Secr...  \n",
       "4  Young Sheldon: Young Sheldon: Season 3: A Baby...  "
      ]
     },
     "execution_count": 9,
     "metadata": {},
     "output_type": "execute_result"
    }
   ],
   "source": [
    "df.head(5)"
   ]
  }
 ],
 "metadata": {
  "kernelspec": {
   "display_name": "Python 3 (ipykernel)",
   "language": "python",
   "name": "python3"
  },
  "language_info": {
   "codemirror_mode": {
    "name": "ipython",
    "version": 3
   },
   "file_extension": ".py",
   "mimetype": "text/x-python",
   "name": "python",
   "nbconvert_exporter": "python",
   "pygments_lexer": "ipython3",
   "version": "3.10.7"
  }
 },
 "nbformat": 4,
 "nbformat_minor": 5
}
